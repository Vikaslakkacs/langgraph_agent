{
 "cells": [
  {
   "cell_type": "code",
   "execution_count": null,
   "metadata": {},
   "outputs": [],
   "source": []
  },
  {
   "cell_type": "code",
   "execution_count": 1,
   "metadata": {},
   "outputs": [
    {
     "data": {
      "text/plain": [
       "True"
      ]
     },
     "execution_count": 1,
     "metadata": {},
     "output_type": "execute_result"
    }
   ],
   "source": [
    "from dotenv import load_dotenv\n",
    "load_dotenv()"
   ]
  },
  {
   "cell_type": "code",
   "execution_count": 2,
   "metadata": {},
   "outputs": [],
   "source": [
    "from langchain_community.tools.tavily_search import TavilySearchResults"
   ]
  },
  {
   "cell_type": "code",
   "execution_count": 3,
   "metadata": {},
   "outputs": [],
   "source": [
    "search= TavilySearchResults()"
   ]
  },
  {
   "cell_type": "code",
   "execution_count": 4,
   "metadata": {},
   "outputs": [
    {
     "data": {
      "text/plain": [
       "[{'url': 'https://www.cbssports.com/olympics/news/2024-paris-olympics-updates-results-tracker-team-usa-schedule-united-states-medal-count-from-summer-games/live/',\n",
       "  'content': \"Sunday action at the 2024 Paris Olympics is already underway, with one of the top headlines being Simone Biles' return to Olympic competition, LeBron James leading Team USA against Nikola Jokic's ...\"},\n",
       " {'url': 'https://olympics.com/ioc/paris-2024',\n",
       "  'content': 'Paris 2024 will herald a \"new era\" of Games that will set a precedent for future editions. Find out here how the IOC supports the Organising Committee and get access to key documents like the Host City Contract, qualification information, anti-doping and medical rules as well as media guidelines and News Access Rules.'},\n",
       " {'url': 'https://www.bbc.co.uk/sport/articles/cz99g6g8m92o',\n",
       "  'content': 'The Paris 2024 Olympic Games will showcase 3,800 hours of live sport and award 329 gold medals in 32 sports over 18 days of competition across the capital and in other parts of France.'},\n",
       " {'url': 'https://www.espn.com/olympics/story/_/id/40322251/2024-summer-olympics-paris-dates-locations-song-motto-opening-ceremony',\n",
       "  'content': \"The 2024 Paris Olympics will take place from July 26 to Aug. 11. for the third time (1900, 1924 and 2024). The Stade de France in Saint-Denis, the country's largest stadium with a capacity of more ...\"},\n",
       " {'url': 'https://www.nytimes.com/athletic/live-blogs/olympics-2024-paris-opening-ceremony-live-updates/wedWbEAeb0d4/',\n",
       "  'content': 'The 2024 Paris Olympics got underway on Friday with a unique opening ceremony on the river Seine which divided opinion on a chaotic day in France. Hundreds of thousands of spectators braved heavy ...'}]"
      ]
     },
     "execution_count": 4,
     "metadata": {},
     "output_type": "execute_result"
    }
   ],
   "source": [
    "search.invoke(\"What is the status of olympics 2024?\")"
   ]
  },
  {
   "cell_type": "markdown",
   "metadata": {},
   "source": [
    "### We have one tool created.\n",
    "* We will create one more tool which is a retriever which retrieves data from an external source"
   ]
  },
  {
   "cell_type": "markdown",
   "metadata": {},
   "source": [
    "### Retriever\n",
    "* We will create retriever with our own data"
   ]
  },
  {
   "cell_type": "code",
   "execution_count": 7,
   "metadata": {},
   "outputs": [],
   "source": [
    "from langchain_community.document_loaders import WebBaseLoader\n",
    "from langchain_community.vectorstores import FAISS\n",
    "from langchain_openai import OpenAIEmbeddings\n",
    "from langchain_text_splitters import RecursiveCharacterTextSplitter"
   ]
  },
  {
   "cell_type": "code",
   "execution_count": 28,
   "metadata": {},
   "outputs": [],
   "source": [
    "## Load data from a website \n",
    "loader= WebBaseLoader(\"https://docs.smith.langchain.com/overview\")\n",
    "docs= loader.load()"
   ]
  },
  {
   "cell_type": "code",
   "execution_count": 29,
   "metadata": {},
   "outputs": [],
   "source": [
    "### Split the text into chunks\n",
    "documents= RecursiveCharacterTextSplitter(\n",
    "    chunk_size=1000,\n",
    "    chunk_overlap=200\n",
    ").split_documents(docs)"
   ]
  },
  {
   "cell_type": "code",
   "execution_count": 30,
   "metadata": {},
   "outputs": [],
   "source": [
    "### Push docs to Vector DB\n",
    "vector= FAISS.from_documents(documents, OpenAIEmbeddings())\n",
    "retriever= vector.as_retriever()"
   ]
  },
  {
   "cell_type": "code",
   "execution_count": 31,
   "metadata": {},
   "outputs": [],
   "source": [
    "from pprint import pprint"
   ]
  },
  {
   "cell_type": "code",
   "execution_count": 32,
   "metadata": {},
   "outputs": [
    {
     "name": "stdout",
     "output_type": "stream",
     "text": [
      "VectorStoreRetriever(tags=['FAISS', 'OpenAIEmbeddings'], vectorstore=<langchain_community.vectorstores.faiss.FAISS object at 0x127a44d30>)\n"
     ]
    }
   ],
   "source": [
    "pprint(retriever)"
   ]
  },
  {
   "cell_type": "code",
   "execution_count": 34,
   "metadata": {},
   "outputs": [
    {
     "data": {
      "text/plain": [
       "[Document(metadata={'source': 'https://docs.smith.langchain.com/overview', 'title': 'Get started with LangSmith | 🦜️🛠️ LangSmith', 'description': 'LangSmith is a platform for building production-grade LLM applications. It allows you to closely monitor and evaluate your application, so you can ship quickly and with confidence. Use of LangChain is not necessary - LangSmith works on its own!', 'language': 'en'}, page_content='description=\"A sample dataset in LangSmith.\")client.create_examples(    inputs=[        {\"postfix\": \"to LangSmith\"},        {\"postfix\": \"to Evaluations in LangSmith\"},    ],    outputs=[        {\"output\": \"Welcome to LangSmith\"},        {\"output\": \"Welcome to Evaluations in LangSmith\"},    ],    dataset_id=dataset.id,)# Define your evaluatordef exact_match(run, example):    return {\"score\": run.outputs[\"output\"] == example.outputs[\"output\"]}experiment_results = evaluate(    lambda input: \"Welcome \" + input[\\'postfix\\'], # Your AI system goes here    data=dataset_name, # The data to predict and grade over    evaluators=[exact_match], # The evaluators to score the results    experiment_prefix=\"sample-experiment\", # The name of the experiment    metadata={      \"version\": \"1.0.0\",      \"revision_id\": \"beta\"    },)import { Client, Run, Example } from \"langsmith\";import { evaluate } from \"langsmith/evaluation\";import { EvaluationResult } from \"langsmith/evaluation\";const client = new'),\n",
       " Document(metadata={'source': 'https://docs.smith.langchain.com/overview', 'title': 'Get started with LangSmith | 🦜️🛠️ LangSmith', 'description': 'LangSmith is a platform for building production-grade LLM applications. It allows you to closely monitor and evaluate your application, so you can ship quickly and with confidence. Use of LangChain is not necessary - LangSmith works on its own!', 'language': 'en'}, page_content='\"revision_id\": \"beta\"    },)import { Client, Run, Example } from \"langsmith\";import { evaluate } from \"langsmith/evaluation\";import { EvaluationResult } from \"langsmith/evaluation\";const client = new Client();// Define dataset: these are your test casesconst datasetName = \"Sample Dataset\";const dataset = await client.createDataset(datasetName, {  description: \"A sample dataset in LangSmith.\",});await client.createExamples({  inputs: [    { postfix: \"to LangSmith\" },    { postfix: \"to Evaluations in LangSmith\" },  ],  outputs: [    { output: \"Welcome to LangSmith\" },    { output: \"Welcome to Evaluations in LangSmith\" },  ],  datasetId: dataset.id,});// Define your evaluatorconst exactMatch = async (  run: Run,  example: Example): Promise<EvaluationResult> => {  return {    key: \"exact_match\",    score: run.outputs?.output === example?.outputs?.output,  };};await evaluate(  (input: { postfix: string }) => ({ output: `Welcome ${input.postfix}` }),  {    data: datasetName,    evaluators:'),\n",
       " Document(metadata={'source': 'https://docs.smith.langchain.com/overview', 'title': 'Get started with LangSmith | 🦜️🛠️ LangSmith', 'description': 'LangSmith is a platform for building production-grade LLM applications. It allows you to closely monitor and evaluate your application, so you can ship quickly and with confidence. Use of LangChain is not necessary - LangSmith works on its own!', 'language': 'en'}, page_content=\"Skip to main contentGo to API DocsSearchRegionUSEUGo to AppQuick startTutorialsHow-to guidesConceptsReferencePricingSelf-hostingLangGraph CloudQuick startOn this pageGet started with LangSmithLangSmith is a platform for building production-grade LLM applications. It allows you to closely monitor and evaluate your application, so you can ship quickly and with confidence. Use of LangChain is not necessary - LangSmith works on its own!1. Install LangSmith\\u200bPythonTypeScriptpip install -U langsmithyarn add langsmith2. Create an API key\\u200bTo create an API key head to the Settings page. Then click Create API Key.3. Set up your environment\\u200bShellexport LANGCHAIN_TRACING_V2=trueexport LANGCHAIN_API_KEY=<your-api-key># The below examples use the OpenAI API, though it's not necessary in generalexport OPENAI_API_KEY=<your-openai-api-key>4. Log your first trace\\u200bWe provide multiple ways to log traces to LangSmith. Below, we'll highlight\"),\n",
       " Document(metadata={'source': 'https://docs.smith.langchain.com/overview', 'title': 'Get started with LangSmith | 🦜️🛠️ LangSmith', 'description': 'LangSmith is a platform for building production-grade LLM applications. It allows you to closely monitor and evaluate your application, so you can ship quickly and with confidence. Use of LangChain is not necessary - LangSmith works on its own!', 'language': 'en'}, page_content='score: run.outputs?.output === example?.outputs?.output,  };};await evaluate(  (input: { postfix: string }) => ({ output: `Welcome ${input.postfix}` }),  {    data: datasetName,    evaluators: [exactMatch],    metadata: {      version: \"1.0.0\",      revision_id: \"beta\",    },  });Learn more about evaluation in the how-to guides.Was this page helpful?You can leave detailed feedback on GitHub.NextTutorials1. Install LangSmith2. Create an API key3. Set up your environment4. Log your first trace5. Run your first evaluationCommunityDiscordTwitterGitHubDocs CodeLangSmith SDKPythonJS/TSMoreHomepageBlogLangChain Python DocsLangChain JS/TS DocsCopyright © 2024 LangChain, Inc.')]"
      ]
     },
     "execution_count": 34,
     "metadata": {},
     "output_type": "execute_result"
    }
   ],
   "source": [
    "retriever.invoke(\"How to upload dataset?\")"
   ]
  },
  {
   "cell_type": "markdown",
   "metadata": {},
   "source": [
    "#### Now this is a retriever.We will create retriever tool"
   ]
  },
  {
   "cell_type": "code",
   "execution_count": 36,
   "metadata": {},
   "outputs": [],
   "source": [
    "from langchain.tools.retriever import create_retriever_tool"
   ]
  },
  {
   "cell_type": "code",
   "execution_count": 37,
   "metadata": {},
   "outputs": [],
   "source": [
    "retriever_tool= create_retriever_tool(\n",
    "    retriever,\n",
    "    \"langsmith_search\",\n",
    "    \"Provides information about langsmith and its components\"\n",
    ")"
   ]
  },
  {
   "cell_type": "markdown",
   "metadata": {},
   "source": [
    "### Now we have got Tools required. \n",
    "* Search tool\n",
    "* Vector database\n",
    "\n",
    "Now we will create agent with these two tools. But before that we will create list for tools"
   ]
  },
  {
   "cell_type": "code",
   "execution_count": 38,
   "metadata": {},
   "outputs": [],
   "source": [
    "tools= [search, retriever_tool]"
   ]
  },
  {
   "cell_type": "markdown",
   "metadata": {},
   "source": [
    "### We have got the tools, now we will create agent\n",
    "* To create agent we will append LLM which takes input and decides which tool is suitable to answer\n",
    "Below are the requirements\n",
    "* LLM\n",
    "* Tools\n",
    "* Prompt"
   ]
  },
  {
   "cell_type": "code",
   "execution_count": 39,
   "metadata": {},
   "outputs": [],
   "source": [
    "from langchain_openai import ChatOpenAI\n",
    "llm= ChatOpenAI(model=\"gpt-3.5-turbo\", temperature=0)"
   ]
  },
  {
   "cell_type": "markdown",
   "metadata": {},
   "source": [
    "#### Load sample prompt"
   ]
  },
  {
   "cell_type": "code",
   "execution_count": 40,
   "metadata": {},
   "outputs": [
    {
     "data": {
      "text/plain": [
       "[SystemMessagePromptTemplate(prompt=PromptTemplate(input_variables=[], template='You are a helpful assistant')),\n",
       " MessagesPlaceholder(variable_name='chat_history', optional=True),\n",
       " HumanMessagePromptTemplate(prompt=PromptTemplate(input_variables=['input'], template='{input}')),\n",
       " MessagesPlaceholder(variable_name='agent_scratchpad')]"
      ]
     },
     "execution_count": 40,
     "metadata": {},
     "output_type": "execute_result"
    }
   ],
   "source": [
    "from langchain import hub\n",
    "##Sample prompt\n",
    "prompt= hub.pull(\"hwchase17/openai-functions-agent\")\n",
    "prompt.messages"
   ]
  },
  {
   "cell_type": "markdown",
   "metadata": {},
   "source": [
    "### Create Agent now."
   ]
  },
  {
   "cell_type": "code",
   "execution_count": 41,
   "metadata": {},
   "outputs": [],
   "source": [
    "from langchain.agents import create_tool_calling_agent\n",
    "agent= create_tool_calling_agent(llm, tools, prompt)"
   ]
  },
  {
   "cell_type": "markdown",
   "metadata": {},
   "source": [
    "### Agent Created!\n",
    "### Now we have to execute the agent, for that we will call agent executer"
   ]
  },
  {
   "cell_type": "code",
   "execution_count": 42,
   "metadata": {},
   "outputs": [],
   "source": [
    "from langchain.agents import AgentExecutor\n",
    "agent_executor= AgentExecutor(agent=agent, tools=tools, verbose=True)"
   ]
  },
  {
   "cell_type": "markdown",
   "metadata": {},
   "source": [
    "#### Now we have Agent executor. We will invoke a message and check how will it react"
   ]
  },
  {
   "cell_type": "code",
   "execution_count": 46,
   "metadata": {},
   "outputs": [
    {
     "name": "stdout",
     "output_type": "stream",
     "text": [
      "\n",
      "\n",
      "\u001b[1m> Entering new AgentExecutor chain...\u001b[0m\n",
      "\u001b[32;1m\u001b[1;3mHello! How can I assist you today?\u001b[0m\n",
      "\n",
      "\u001b[1m> Finished chain.\u001b[0m\n"
     ]
    },
    {
     "data": {
      "text/plain": [
       "{'input': 'Hello!', 'output': 'Hello! How can I assist you today?'}"
      ]
     },
     "execution_count": 46,
     "metadata": {},
     "output_type": "execute_result"
    }
   ],
   "source": [
    "agent_executor.invoke({\"input\": \"Hello!\"})"
   ]
  },
  {
   "cell_type": "code",
   "execution_count": 47,
   "metadata": {},
   "outputs": [
    {
     "name": "stdout",
     "output_type": "stream",
     "text": [
      "\n",
      "\n",
      "\u001b[1m> Entering new AgentExecutor chain...\u001b[0m\n",
      "\u001b[32;1m\u001b[1;3m\n",
      "Invoking: `tavily_search_results_json` with `{'query': 'How to make egg omelette'}`\n",
      "\n",
      "\n",
      "\u001b[0m\u001b[36;1m\u001b[1;3m[{'url': 'https://www.simplyrecipes.com/recipes/how_to_make_an_omelet/', 'content': 'Simply Recipes / Sally Vargas\\nMore Classic Ways to Make Eggs\\nHow to Make an Omelette\\nIngredients\\n2 large eggs\\nPinch salt\\n1 tablespoon unsalted butter\\n2 tablespoons grated cheese, any kind\\n3 to 4 cherry tomatoes, cut in half and sprinkled lightly with salt\\n2 tablespoons chopped basil, parsley, or herb of your choice\\nMethod\\nCrack the eggs into a bowl. Simply Recipes / Sally Vargas\\nSimply Recipes / Sally Vargas\\nPlace the cheese, tomatoes, and herbs in a line down the center of the omelette and cook for about 1 minute longer, or until the eggs are mostly set but still a little soft in the center.\\n An American omelette (or \"omelet\" as they are sometimes spelled) starts out in the same way, but as the eggs cook, the edges are lifted from the sides of the pan with a spatula so the runny eggs can flow underneath.\\n In her book An Omelette and a Glass of Wine, the late British writer Elizabeth David, who was one of the first food writers to educate a generation of English speakers about real, everyday French cooking, extolls the virtues of the simple omelette enjoyed with a glass of wine. With a silicone spatula, push the edges toward the center of the pan and tilt the pan so the uncooked eggs move to the edge.\\n'}, {'url': 'https://natashaskitchen.com/perfect-omelette-recipe/', 'content': 'Follow these steps for moist and fluffy omelettes every time. Beat eggs - in a small bowl, combine 2 eggs and a pinch of salt then beat with a fork until frothy. Heat skillet - place a small non-stick pan over medium heat and melt in 1/2 Tbsp of butter. Once butter is melted and bubbly, add beaten eggs and reduce heat to low.'}, {'url': 'https://www.thekitchn.com/omelet-recipe-23395435', 'content': 'Crack 2 or 3 large eggs into a bowl. Add 1/4 teaspoon kosher salt and 1 pinch black pepper and whisk with a fork until the eggs are well blended but not frothy. Heat a 6- to-8-inch nonstick pan over medium heat until hot, about 2 minutes. Add 2 teaspoons butter and swirl to coat the bottom and sides of the pan.'}, {'url': 'https://www.foodnetwork.com/how-to/articles/how-to-make-the-perfect-omelet-a-step-by-step-guide', 'content': 'Step 1: Whisk together the ingredients. Whisk 2 large eggs, 2 tablespoons milk and a pinch of kosher salt in a medium bowl until very well combined. Step 2: Add the eggs to a nonstick skillet and ...'}, {'url': 'https://www.wholesomeyum.com/omelette-recipe/', 'content': 'In a medium bowl, whisk together the eggs, milk or cream, salt and pepper. Set aside to rest while you cook the fillings (see notes above on why letting the mixture sit for 15 minutes improves the result!). Heat 1 tablespoon of avocado oil in an 8-inch or 10-inch nonstick skillet over medium heat.'}]\u001b[0m\u001b[32;1m\u001b[1;3mI found several resources that can help you make an egg omelette:\n",
      "\n",
      "1. [Simply Recipes - How to Make an Omelette](https://www.simplyrecipes.com/recipes/how_to_make_an_omelet/): This recipe includes ingredients like eggs, salt, butter, cheese, tomatoes, and herbs. It provides a step-by-step method to make a classic omelette.\n",
      "\n",
      "2. [Natasha's Kitchen - Perfect Omelette Recipe](https://natashaskitchen.com/perfect-omelette-recipe/): This recipe guides you on how to make moist and fluffy omelettes every time. It includes beating eggs with salt, heating a skillet, and cooking the omelette.\n",
      "\n",
      "3. [The Kitchn - Omelet Recipe](https://www.thekitchn.com/omelet-recipe-23395435): This recipe suggests cracking eggs into a bowl, adding salt and pepper, heating a nonstick pan, and cooking the omelette with butter.\n",
      "\n",
      "4. [Food Network - How to Make the Perfect Omelet](https://www.foodnetwork.com/how-to/articles/how-to-make-the-perfect-omelet-a-step-by-step-guide): This guide explains whisking eggs with milk and salt, adding the mixture to a nonstick skillet, and cooking the omelette.\n",
      "\n",
      "5. [Wholesome Yum - Omelette Recipe](https://www.wholesomeyum.com/omelette-recipe/): This recipe involves whisking eggs with milk, salt, and pepper, letting the mixture sit, and cooking the omelette in a nonstick skillet.\n",
      "\n",
      "You can visit these links for detailed instructions on making a delicious egg omelette. Enjoy your cooking!\u001b[0m\n",
      "\n",
      "\u001b[1m> Finished chain.\u001b[0m\n"
     ]
    },
    {
     "data": {
      "text/plain": [
       "{'input': 'How to make egg omlette?',\n",
       " 'output': \"I found several resources that can help you make an egg omelette:\\n\\n1. [Simply Recipes - How to Make an Omelette](https://www.simplyrecipes.com/recipes/how_to_make_an_omelet/): This recipe includes ingredients like eggs, salt, butter, cheese, tomatoes, and herbs. It provides a step-by-step method to make a classic omelette.\\n\\n2. [Natasha's Kitchen - Perfect Omelette Recipe](https://natashaskitchen.com/perfect-omelette-recipe/): This recipe guides you on how to make moist and fluffy omelettes every time. It includes beating eggs with salt, heating a skillet, and cooking the omelette.\\n\\n3. [The Kitchn - Omelet Recipe](https://www.thekitchn.com/omelet-recipe-23395435): This recipe suggests cracking eggs into a bowl, adding salt and pepper, heating a nonstick pan, and cooking the omelette with butter.\\n\\n4. [Food Network - How to Make the Perfect Omelet](https://www.foodnetwork.com/how-to/articles/how-to-make-the-perfect-omelet-a-step-by-step-guide): This guide explains whisking eggs with milk and salt, adding the mixture to a nonstick skillet, and cooking the omelette.\\n\\n5. [Wholesome Yum - Omelette Recipe](https://www.wholesomeyum.com/omelette-recipe/): This recipe involves whisking eggs with milk, salt, and pepper, letting the mixture sit, and cooking the omelette in a nonstick skillet.\\n\\nYou can visit these links for detailed instructions on making a delicious egg omelette. Enjoy your cooking!\"}"
      ]
     },
     "execution_count": 47,
     "metadata": {},
     "output_type": "execute_result"
    }
   ],
   "source": [
    "agent_executor.invoke({\"input\": \"How to make egg omlette?\"})"
   ]
  },
  {
   "cell_type": "code",
   "execution_count": 48,
   "metadata": {},
   "outputs": [
    {
     "name": "stdout",
     "output_type": "stream",
     "text": [
      "\n",
      "\n",
      "\u001b[1m> Entering new AgentExecutor chain...\u001b[0m\n",
      "\u001b[32;1m\u001b[1;3m\n",
      "Invoking: `langsmith_search` with `{'query': 'How to create langsmith dataset?'}`\n",
      "\n",
      "\n",
      "\u001b[0m\u001b[33;1m\u001b[1;3mSkip to main contentGo to API DocsSearchRegionUSEUGo to AppQuick startTutorialsHow-to guidesConceptsReferencePricingSelf-hostingLangGraph CloudQuick startOn this pageGet started with LangSmithLangSmith is a platform for building production-grade LLM applications. It allows you to closely monitor and evaluate your application, so you can ship quickly and with confidence. Use of LangChain is not necessary - LangSmith works on its own!1. Install LangSmith​PythonTypeScriptpip install -U langsmithyarn add langsmith2. Create an API key​To create an API key head to the Settings page. Then click Create API Key.3. Set up your environment​Shellexport LANGCHAIN_TRACING_V2=trueexport LANGCHAIN_API_KEY=<your-api-key># The below examples use the OpenAI API, though it's not necessary in generalexport OPENAI_API_KEY=<your-openai-api-key>4. Log your first trace​We provide multiple ways to log traces to LangSmith. Below, we'll highlight\n",
      "\n",
      "Get started with LangSmith | 🦜️🛠️ LangSmith\n",
      "\n",
      "\"revision_id\": \"beta\"    },)import { Client, Run, Example } from \"langsmith\";import { evaluate } from \"langsmith/evaluation\";import { EvaluationResult } from \"langsmith/evaluation\";const client = new Client();// Define dataset: these are your test casesconst datasetName = \"Sample Dataset\";const dataset = await client.createDataset(datasetName, {  description: \"A sample dataset in LangSmith.\",});await client.createExamples({  inputs: [    { postfix: \"to LangSmith\" },    { postfix: \"to Evaluations in LangSmith\" },  ],  outputs: [    { output: \"Welcome to LangSmith\" },    { output: \"Welcome to Evaluations in LangSmith\" },  ],  datasetId: dataset.id,});// Define your evaluatorconst exactMatch = async (  run: Run,  example: Example): Promise<EvaluationResult> => {  return {    key: \"exact_match\",    score: run.outputs?.output === example?.outputs?.output,  };};await evaluate(  (input: { postfix: string }) => ({ output: `Welcome ${input.postfix}` }),  {    data: datasetName,    evaluators:\n",
      "\n",
      "description=\"A sample dataset in LangSmith.\")client.create_examples(    inputs=[        {\"postfix\": \"to LangSmith\"},        {\"postfix\": \"to Evaluations in LangSmith\"},    ],    outputs=[        {\"output\": \"Welcome to LangSmith\"},        {\"output\": \"Welcome to Evaluations in LangSmith\"},    ],    dataset_id=dataset.id,)# Define your evaluatordef exact_match(run, example):    return {\"score\": run.outputs[\"output\"] == example.outputs[\"output\"]}experiment_results = evaluate(    lambda input: \"Welcome \" + input['postfix'], # Your AI system goes here    data=dataset_name, # The data to predict and grade over    evaluators=[exact_match], # The evaluators to score the results    experiment_prefix=\"sample-experiment\", # The name of the experiment    metadata={      \"version\": \"1.0.0\",      \"revision_id\": \"beta\"    },)import { Client, Run, Example } from \"langsmith\";import { evaluate } from \"langsmith/evaluation\";import { EvaluationResult } from \"langsmith/evaluation\";const client = new\u001b[0m\u001b[32;1m\u001b[1;3mTo create a LangSmith dataset, you can follow these steps:\n",
      "\n",
      "1. Install LangSmith:\n",
      "   - Python: `pip install -U langsmith`\n",
      "   - TypeScript: `yarn add langsmith`\n",
      "\n",
      "2. Create an API key:\n",
      "   - Go to the Settings page and click on \"Create API Key.\"\n",
      "\n",
      "3. Set up your environment:\n",
      "   - Shell commands:\n",
      "     ```\n",
      "     export LANGCHAIN_TRACING_V2=true\n",
      "     export LANGCHAIN_API_KEY=<your-api-key>\n",
      "     export OPENAI_API_KEY=<your-openai-api-key>\n",
      "     ```\n",
      "\n",
      "4. Log your first trace:\n",
      "   - You can define your dataset and examples using the provided code snippets in Python or TypeScript.\n",
      "\n",
      "5. Define your evaluator:\n",
      "   - Implement an evaluator function to evaluate the outputs of your model against the expected outputs.\n",
      "\n",
      "By following these steps, you can create a LangSmith dataset and start evaluating your language model applications.\u001b[0m\n",
      "\n",
      "\u001b[1m> Finished chain.\u001b[0m\n"
     ]
    },
    {
     "data": {
      "text/plain": [
       "{'input': 'How to create langsmith dataset?',\n",
       " 'output': 'To create a LangSmith dataset, you can follow these steps:\\n\\n1. Install LangSmith:\\n   - Python: `pip install -U langsmith`\\n   - TypeScript: `yarn add langsmith`\\n\\n2. Create an API key:\\n   - Go to the Settings page and click on \"Create API Key.\"\\n\\n3. Set up your environment:\\n   - Shell commands:\\n     ```\\n     export LANGCHAIN_TRACING_V2=true\\n     export LANGCHAIN_API_KEY=<your-api-key>\\n     export OPENAI_API_KEY=<your-openai-api-key>\\n     ```\\n\\n4. Log your first trace:\\n   - You can define your dataset and examples using the provided code snippets in Python or TypeScript.\\n\\n5. Define your evaluator:\\n   - Implement an evaluator function to evaluate the outputs of your model against the expected outputs.\\n\\nBy following these steps, you can create a LangSmith dataset and start evaluating your language model applications.'}"
      ]
     },
     "execution_count": 48,
     "metadata": {},
     "output_type": "execute_result"
    }
   ],
   "source": [
    "agent_executor.invoke({\"input\": \"How to create langsmith dataset?\"})"
   ]
  },
  {
   "cell_type": "markdown",
   "metadata": {},
   "source": [
    "### Now LLM will automatically assign the tasks to respective tool."
   ]
  },
  {
   "cell_type": "markdown",
   "metadata": {},
   "source": [
    "### Lets Add memory to the agent to give better understanding of the context"
   ]
  },
  {
   "cell_type": "code",
   "execution_count": 49,
   "metadata": {},
   "outputs": [],
   "source": [
    "from langchain_community.chat_message_histories import ChatMessageHistory\n",
    "from langchain_core.runnables.history import RunnableWithMessageHistory"
   ]
  },
  {
   "cell_type": "code",
   "execution_count": 50,
   "metadata": {},
   "outputs": [],
   "source": [
    "message_history= ChatMessageHistory()"
   ]
  },
  {
   "cell_type": "code",
   "execution_count": null,
   "metadata": {},
   "outputs": [],
   "source": []
  },
  {
   "cell_type": "code",
   "execution_count": 52,
   "metadata": {},
   "outputs": [],
   "source": [
    "agent_with_chat_history= RunnableWithMessageHistory(\n",
    "    agent_executor,\n",
    "    ### Session id is required for users\n",
    "    lambda session_id: message_history,\n",
    "    input_messages_key=\"input\",\n",
    "    history_messages_key=\"chat_history\",\n",
    ")"
   ]
  },
  {
   "cell_type": "code",
   "execution_count": 53,
   "metadata": {},
   "outputs": [
    {
     "name": "stdout",
     "output_type": "stream",
     "text": [
      "\n",
      "\n",
      "\u001b[1m> Entering new AgentExecutor chain...\u001b[0m\n",
      "\u001b[32;1m\u001b[1;3mHello Vicky! How can I assist you today?\u001b[0m\n",
      "\n",
      "\u001b[1m> Finished chain.\u001b[0m\n"
     ]
    },
    {
     "data": {
      "text/plain": [
       "{'input': \"Hello I'm Vicky\",\n",
       " 'chat_history': [],\n",
       " 'output': 'Hello Vicky! How can I assist you today?'}"
      ]
     },
     "execution_count": 53,
     "metadata": {},
     "output_type": "execute_result"
    }
   ],
   "source": [
    "agent_with_chat_history.invoke({\"input\":\"Hello I'm Vicky\"},\n",
    "                               config={\"configurable\": {\"session_id\":\"Vicky\"}})"
   ]
  },
  {
   "cell_type": "code",
   "execution_count": 54,
   "metadata": {},
   "outputs": [
    {
     "name": "stdout",
     "output_type": "stream",
     "text": [
      "\n",
      "\n",
      "\u001b[1m> Entering new AgentExecutor chain...\u001b[0m\n",
      "\u001b[32;1m\u001b[1;3mYour name is Vicky. How can I help you, Vicky?\u001b[0m\n",
      "\n",
      "\u001b[1m> Finished chain.\u001b[0m\n"
     ]
    },
    {
     "data": {
      "text/plain": [
       "{'input': 'What is my name?',\n",
       " 'chat_history': [HumanMessage(content=\"Hello I'm Vicky\"),\n",
       "  AIMessage(content='Hello Vicky! How can I assist you today?')],\n",
       " 'output': 'Your name is Vicky. How can I help you, Vicky?'}"
      ]
     },
     "execution_count": 54,
     "metadata": {},
     "output_type": "execute_result"
    }
   ],
   "source": [
    "agent_with_chat_history.invoke({\"input\":\"What is my name?\"},\n",
    "                               config={\"configurable\": {\"session_id\":\"Vicky\"}})"
   ]
  },
  {
   "cell_type": "code",
   "execution_count": 56,
   "metadata": {},
   "outputs": [
    {
     "name": "stdout",
     "output_type": "stream",
     "text": [
      "\n",
      "\n",
      "\u001b[1m> Entering new AgentExecutor chain...\u001b[0m\n",
      "\u001b[32;1m\u001b[1;3m\n",
      "Invoking: `tavily_search_results_json` with `{'query': 'India medals won in Olympics 2024'}`\n",
      "\n",
      "\n",
      "\u001b[0m\u001b[36;1m\u001b[1;3m[{'url': 'https://www.sportingnews.com/in/other-sports/news/india-medals-olympics-full-list-medal-winners-standings-paris-2024/5a0d25a5d8ab4597fdb0e9d9', 'content': \"India medal winners at Paris Olympics 2024. Manu Bhaker wins India's first medal at the Paris Olympics 2024. The 22-year-old shooter struck Bronze for India, to become the first woman to win a ...\"}, {'url': 'https://olympics.com/en/news/paris-2024-olympics-india-medals-tally-winners-table', 'content': \"Manu Bhaker won the first medal for India at the Paris 2024 Olympics. She bagged a brone and became the first Indian woman to win an Olympic shooting medal. Overall, India have won 36 medals at the Olympics to date. Interestingly, it was Norman Pritchard's dual silver which opened India's account in Paris 1900. KD Jadhav, with a wrestling ...\"}, {'url': 'https://economictimes.indiatimes.com/news/sports/olympic-2024-india-medals-full-list-of-medals-and-points-of-indian-athletes-in-paris-olympics-games-gold-silver-bronze/articleshow/112059293.cms', 'content': \"Paris Olympics 2024 India Medal Tally: India's athletes are set to compete in the 2024 Paris Olympics, competing in various sports such as shooting, hockey, badminton, tennis, and athletics. The Indian contingent, consisting of 117 athletes, will compete in 16 disciplines including archery, shooting, and boxing. The squad, consisting of 70 men and 47 women, will compete in 69 events for 95 medals.\"}, {'url': 'https://indianexpress.com/article/sports/sport-others/manu-bhaker-bronze-medal-women-10m-air-pistol-paris-olympics-2024-9480535/', 'content': \"Of the four medals Indian shooters have won at the Olympics before Paris 2024, none had been won by an Indian woman shooter. The last medals for India from the shooting ranges of an Olympics, came at London 2012, where rifle shooter Gagan Narang (bronze in men's 10m air rifle) and pistol shooter Vijay Kumar (silver in men's 25m rapid fire pistol) won medals.\"}, {'url': 'https://en.wikipedia.org/wiki/India_at_the_2024_Summer_Olympics', 'content': \"Who Is Manu Bhaker: India's Star Shooter Who Made History At Paris Olympics 2024. Paris Olympics 2024: Manu Bhaker became the first woman from India to win an Olympic medal in shooting. When it comes to sports, especially in Olympics, Haryana has provided some of the finest athletes to the country, but mostly in the form of boxers and wrestlers\"}]\u001b[0m\u001b[32;1m\u001b[1;3mIndia won a total of 1 medal in the 2024 Olympics. Manu Bhaker won the Bronze medal in shooting, becoming the first woman from India to win an Olympic shooting medal.\u001b[0m\n",
      "\n",
      "\u001b[1m> Finished chain.\u001b[0m\n"
     ]
    },
    {
     "data": {
      "text/plain": [
       "{'input': 'How many medals did India won in olympics 2024?',\n",
       " 'chat_history': [HumanMessage(content=\"Hello I'm Vicky\"),\n",
       "  AIMessage(content='Hello Vicky! How can I assist you today?'),\n",
       "  HumanMessage(content='What is my name?'),\n",
       "  AIMessage(content='Your name is Vicky. How can I help you, Vicky?'),\n",
       "  HumanMessage(content='How many medals did India won in olympics?'),\n",
       "  AIMessage(content='India has won a total of 36 medals in the history of the Olympic Games.')],\n",
       " 'output': 'India won a total of 1 medal in the 2024 Olympics. Manu Bhaker won the Bronze medal in shooting, becoming the first woman from India to win an Olympic shooting medal.'}"
      ]
     },
     "execution_count": 56,
     "metadata": {},
     "output_type": "execute_result"
    }
   ],
   "source": [
    "agent_with_chat_history.invoke({\"input\":\"How many medals did India won in olympics 2024?\"},\n",
    "                               config={\"configurable\": {\"session_id\":\"Vicky\"}})"
   ]
  },
  {
   "cell_type": "code",
   "execution_count": null,
   "metadata": {},
   "outputs": [],
   "source": []
  }
 ],
 "metadata": {
  "kernelspec": {
   "display_name": "lang_graph",
   "language": "python",
   "name": "python3"
  },
  "language_info": {
   "codemirror_mode": {
    "name": "ipython",
    "version": 3
   },
   "file_extension": ".py",
   "mimetype": "text/x-python",
   "name": "python",
   "nbconvert_exporter": "python",
   "pygments_lexer": "ipython3",
   "version": "3.10.14"
  }
 },
 "nbformat": 4,
 "nbformat_minor": 2
}
